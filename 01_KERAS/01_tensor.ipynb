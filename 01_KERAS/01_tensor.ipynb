{
 "cells": [
  {
   "cell_type": "markdown",
   "id": "continuing-brush",
   "metadata": {},
   "source": [
    "# tensor속성\n",
    "* 축 개수 (rank): 3D tensor의 rank는 3 (ndim으로 확인 가능)\n",
    "* shape : 각 축을 따라 얼마나 많은 차원이 있는지를 나타낸 파있너의 튜플(tuple)\n",
    "* 데이터 타입: dtype에 저장"
   ]
  },
  {
   "cell_type": "markdown",
   "id": "suspended-nashville",
   "metadata": {},
   "source": [
    "# scaler(0D tensor)\n",
    "* ndim 속성 사용하면 넘파이 배열 축 개수 확인 가능 (ndim==0)\n",
    "* rank : 텐서의 축 개수"
   ]
  },
  {
   "cell_type": "code",
   "execution_count": 1,
   "id": "identical-helmet",
   "metadata": {},
   "outputs": [
    {
     "data": {
      "text/plain": [
       "array(12)"
      ]
     },
     "execution_count": 1,
     "metadata": {},
     "output_type": "execute_result"
    }
   ],
   "source": [
    "import numpy as np\n",
    "x=np.array(12)\n",
    "x"
   ]
  },
  {
   "cell_type": "code",
   "execution_count": 2,
   "id": "apparent-humidity",
   "metadata": {},
   "outputs": [
    {
     "data": {
      "text/plain": [
       "0"
      ]
     },
     "execution_count": 2,
     "metadata": {},
     "output_type": "execute_result"
    }
   ],
   "source": [
    "x.ndim"
   ]
  },
  {
   "cell_type": "markdown",
   "id": "physical-opposition",
   "metadata": {},
   "source": [
    "# vector(1D tensor)"
   ]
  },
  {
   "cell_type": "code",
   "execution_count": 3,
   "id": "abandoned-revelation",
   "metadata": {},
   "outputs": [
    {
     "data": {
      "text/plain": [
       "array([1, 2, 3, 4, 5])"
      ]
     },
     "execution_count": 3,
     "metadata": {},
     "output_type": "execute_result"
    }
   ],
   "source": [
    "x=np.array([1,2,3,4,5])\n",
    "x"
   ]
  },
  {
   "cell_type": "code",
   "execution_count": 4,
   "id": "centered-fireplace",
   "metadata": {},
   "outputs": [
    {
     "data": {
      "text/plain": [
       "1"
      ]
     },
     "execution_count": 4,
     "metadata": {},
     "output_type": "execute_result"
    }
   ],
   "source": [
    "x.ndim"
   ]
  },
  {
   "cell_type": "markdown",
   "id": "divided-inspection",
   "metadata": {},
   "source": [
    "# matirx(2D tensor)\n",
    "* 행 (row)\n",
    "* 열 (column)"
   ]
  },
  {
   "cell_type": "code",
   "execution_count": 7,
   "id": "quantitative-turkey",
   "metadata": {},
   "outputs": [
    {
     "data": {
      "text/plain": [
       "array([[1, 2, 3],\n",
       "       [2, 3, 4],\n",
       "       [3, 4, 5]])"
      ]
     },
     "execution_count": 7,
     "metadata": {},
     "output_type": "execute_result"
    }
   ],
   "source": [
    "x=np.array([[1,2,3],\n",
    "            [2,3,4],\n",
    "            [3,4,5]])\n",
    "x"
   ]
  },
  {
   "cell_type": "code",
   "execution_count": 8,
   "id": "looking-waters",
   "metadata": {},
   "outputs": [
    {
     "data": {
      "text/plain": [
       "2"
      ]
     },
     "execution_count": 8,
     "metadata": {},
     "output_type": "execute_result"
    }
   ],
   "source": [
    "x.ndim"
   ]
  },
  {
   "cell_type": "markdown",
   "id": "political-amino",
   "metadata": {},
   "source": [
    "# 3D tensor와 고차원 텐서\n",
    "* 3D 텐서들을 하나로 합치면 4D 텐서를 만드는 식으로 이어진다\n",
    "* 딥러닝에서는 보통 0D에서 4D까지의 텐서를 다룬다"
   ]
  },
  {
   "cell_type": "code",
   "execution_count": 10,
   "id": "elect-norwegian",
   "metadata": {},
   "outputs": [
    {
     "data": {
      "text/plain": [
       "array([[[1, 2, 3],\n",
       "        [2, 3, 4],\n",
       "        [3, 4, 5]],\n",
       "\n",
       "       [[1, 2, 3],\n",
       "        [2, 3, 4],\n",
       "        [3, 4, 5]]])"
      ]
     },
     "execution_count": 10,
     "metadata": {},
     "output_type": "execute_result"
    }
   ],
   "source": [
    "x=np.array([[[1,2,3],\n",
    "            [2,3,4],\n",
    "            [3,4,5]],\n",
    "            [[1,2,3],\n",
    "            [2,3,4],\n",
    "            [3,4,5]]])\n",
    "x"
   ]
  },
  {
   "cell_type": "markdown",
   "id": "christian-religion",
   "metadata": {},
   "source": [
    "# slicing \n",
    "[10:100] :11번째부터 101번째까지(101은 포함하지 않고)"
   ]
  },
  {
   "cell_type": "code",
   "execution_count": 13,
   "id": "unusual-richardson",
   "metadata": {},
   "outputs": [
    {
     "name": "stdout",
     "output_type": "stream",
     "text": [
      "3\n",
      "(60000, 28, 28)\n",
      "(10000, 28, 28)\n",
      "1\n",
      "(60000,)\n",
      "(10000,)\n"
     ]
    }
   ],
   "source": [
    "from keras.datasets import mnist\n",
    "\n",
    "(train_images, train_labels),(test_images, test_labels)=mnist.load_data()\n",
    "print(train_images.ndim)\n",
    "print(train_images.shape)\n",
    "print(test_images.shape)\n",
    "print(train_labels.ndim)\n",
    "print(train_labels.shape)\n",
    "print(test_labels.shape)"
   ]
  },
  {
   "cell_type": "code",
   "execution_count": 14,
   "id": "ranking-exclusive",
   "metadata": {},
   "outputs": [
    {
     "name": "stdout",
     "output_type": "stream",
     "text": [
      "(90, 28, 28)\n"
     ]
    }
   ],
   "source": [
    "my_slice=train_images[10:100]\n",
    "print(my_slice.shape)"
   ]
  },
  {
   "cell_type": "code",
   "execution_count": 19,
   "id": "clean-typing",
   "metadata": {},
   "outputs": [
    {
     "data": {
      "text/plain": [
       "(90, 14, 14)"
      ]
     },
     "execution_count": 19,
     "metadata": {},
     "output_type": "execute_result"
    }
   ],
   "source": [
    "my_slice2=my_slice[:,14:,14:] #오른쪽 아래 14*14픽셀 선택\n",
    "my_slice2.shape"
   ]
  },
  {
   "cell_type": "markdown",
   "id": "molecular-milton",
   "metadata": {},
   "source": [
    "# image data\n",
    "* 256x256 크기의 흑백 이미지에 대한 128개의 배치는 (128, 256,256,1)크기의 텐서에 저장\n",
    "* 256x256 크기의 컬러 이미지에 대한 128개의 배치는 (128,256,256,3)크기의 텐서\n",
    "* 이미지 텐서의 크기를 지정하는 방식 2가지\n",
    "    - (텐서플로우에서 사용하는) 채널 마지막 (channel-last)방식 :(samples, height, width, color_depth)\n",
    "    - (씨아노에서 사용하는) 채널 우선 (channel-first)방식 :(samples, coler_depth, height, width)\n",
    "    - 케라스 프레임워크는 두 형식을 모두 지원한다"
   ]
  },
  {
   "cell_type": "markdown",
   "id": "attended-affect",
   "metadata": {},
   "source": [
    "# 브로드캐스팅\n",
    "\n",
    "1. 큰 텐서의 ndim에 맞도록 작은 텐서에 (브로드캐스팅 축이라고 부르는) 축이 추가된다\n",
    "2. 작은 텐서가 새 축을 따라서 큰 텐서의 크기에 맞도록 반복됨"
   ]
  },
  {
   "cell_type": "code",
   "execution_count": 21,
   "id": "racial-popularity",
   "metadata": {},
   "outputs": [
    {
     "data": {
      "text/plain": [
       "(64, 3, 32, 10)"
      ]
     },
     "execution_count": 21,
     "metadata": {},
     "output_type": "execute_result"
    }
   ],
   "source": [
    "import numpy as np\n",
    "\n",
    "x=np.random.random((64, 3,32,10))\n",
    "y=np.random.random((32,10))\n",
    "\n",
    "z=np.maximum(x,y)\n",
    "z.shape"
   ]
  },
  {
   "cell_type": "markdown",
   "id": "velvet-estonia",
   "metadata": {},
   "source": [
    "# tensor 크기 변환\n",
    "\n",
    "tensor.reshape()"
   ]
  },
  {
   "cell_type": "code",
   "execution_count": 23,
   "id": "ceramic-sauce",
   "metadata": {},
   "outputs": [
    {
     "name": "stdout",
     "output_type": "stream",
     "text": [
      "(3, 2)\n"
     ]
    },
    {
     "data": {
      "text/plain": [
       "array([[0.],\n",
       "       [1.],\n",
       "       [2.],\n",
       "       [3.],\n",
       "       [4.],\n",
       "       [5.]])"
      ]
     },
     "execution_count": 23,
     "metadata": {},
     "output_type": "execute_result"
    }
   ],
   "source": [
    "x=np.array([[0.,1.],\n",
    "           [2.,3.],\n",
    "           [4.,5.]])\n",
    "print(x.shape)\n",
    "x=x.reshape((6,1))\n",
    "x"
   ]
  },
  {
   "cell_type": "code",
   "execution_count": 26,
   "id": "personal-depression",
   "metadata": {},
   "outputs": [
    {
     "name": "stdout",
     "output_type": "stream",
     "text": [
      "(1, 6)\n"
     ]
    },
    {
     "data": {
      "text/plain": [
       "array([[0., 1., 2., 3., 4., 5.]])"
      ]
     },
     "execution_count": 26,
     "metadata": {},
     "output_type": "execute_result"
    }
   ],
   "source": [
    "# transposition\n",
    "x=np.transpose(x)\n",
    "print(x.shape)\n",
    "x"
   ]
  }
 ],
 "metadata": {
  "kernelspec": {
   "display_name": "Python 3",
   "language": "python",
   "name": "python3"
  },
  "language_info": {
   "codemirror_mode": {
    "name": "ipython",
    "version": 3
   },
   "file_extension": ".py",
   "mimetype": "text/x-python",
   "name": "python",
   "nbconvert_exporter": "python",
   "pygments_lexer": "ipython3",
   "version": "3.6.12"
  }
 },
 "nbformat": 4,
 "nbformat_minor": 5
}
