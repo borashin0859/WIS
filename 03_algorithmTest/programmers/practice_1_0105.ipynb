{
 "cells": [
  {
   "cell_type": "code",
   "execution_count": null,
   "metadata": {},
   "outputs": [],
   "source": [
    "# 71484.올바른 괄호 체크\n",
    "def solution(s):\n",
    "    l=[]\n",
    "    for i in s:\n",
    "        if(i==\"(\"):\n",
    "            l.append(i)\n",
    "        elif(not l):\n",
    "            return False\n",
    "        else:\n",
    "            l.pop()\n",
    "    if not l:\n",
    "        return True\n",
    "    return False\n",
    "        \n",
    "    "
   ]
  },
  {
   "cell_type": "code",
   "execution_count": 23,
   "metadata": {},
   "outputs": [],
   "source": [
    "# 71485.스킬트리\n",
    "def solution(skill, skill_trees):\n",
    "    answer = 0\n",
    "    for a in skill_trees:\n",
    "        l=[]\n",
    "        for i in skill:\n",
    "            if a.find(i)!=-1:\n",
    "                l.append(a.find(i))\n",
    "            else:\n",
    "                l.append(30)\n",
    "        if l==sorted(l):\n",
    "            answer+=1\n",
    "                \n",
    "    return answer"
   ]
  },
  {
   "cell_type": "code",
   "execution_count": 45,
   "metadata": {},
   "outputs": [
    {
     "name": "stdout",
     "output_type": "stream",
     "text": [
      "e\n"
     ]
    }
   ],
   "source": [
    "# 12903.가운데 글자 가져오기\n",
    "def solution(s):\n",
    "    if(len(s)/2%1==0):\n",
    "        return (s[int(len(s)/2)-1])+(s[int(len(s)/2)])\n",
    "    else:\n",
    "        return s[int(len(s)/2)]\n",
    "    "
   ]
  },
  {
   "cell_type": "code",
   "execution_count": 70,
   "metadata": {},
   "outputs": [],
   "source": [
    "# 12917.문자열 내림차순으로 배치하기\n",
    "def solution(s):\n",
    "    return (\"\".join(sorted(s)[::-1]))"
   ]
  },
  {
   "cell_type": "code",
   "execution_count": null,
   "metadata": {},
   "outputs": [],
   "source": [
    "# 12937.짝수와 홀수\n",
    "def solution(num):\n",
    "    return (\"Even\" if num%2==0 else \"Odd\")"
   ]
  }
 ],
 "metadata": {
  "kernelspec": {
   "display_name": "Python 3",
   "language": "python",
   "name": "python3"
  },
  "language_info": {
   "codemirror_mode": {
    "name": "ipython",
    "version": 3
   },
   "file_extension": ".py",
   "mimetype": "text/x-python",
   "name": "python",
   "nbconvert_exporter": "python",
   "pygments_lexer": "ipython3",
   "version": "3.9.1"
  }
 },
 "nbformat": 4,
 "nbformat_minor": 4
}
