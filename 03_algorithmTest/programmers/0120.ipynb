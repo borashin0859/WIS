{
 "cells": [
  {
   "cell_type": "code",
   "execution_count": null,
   "metadata": {},
   "outputs": [],
   "source": [
    "from collections import deque\n",
    "\n",
    "def solution(progresses, speeds):\n",
    "    answer = []\n",
    "    \n",
    "    dq_progresses=deque(progresses)\n",
    "    dq_speeds=deque(speeds)\n",
    "    \n",
    "    while(dq_progresses):\n",
    "        answer_fac=0\n",
    "        for i in range(len(dq_speeds)):\n",
    "            dq_progresses[i]+=dq_speeds[i]\n",
    "            \n",
    "        while True:\n",
    "            if dq_progresses and dq_progresses[0]>=100:\n",
    "                answer_fac+=1\n",
    "                dq_progresses.popleft()\n",
    "                dq_speeds.popleft()\n",
    "            else:\n",
    "                break\n",
    "                \n",
    "        \n",
    "        if answer_fac!=0:\n",
    "            answer.append(answer_fac)\n",
    "    \n",
    "    return answer"
   ]
  }
 ],
 "metadata": {
  "kernelspec": {
   "display_name": "Python 3",
   "language": "python",
   "name": "python3"
  },
  "language_info": {
   "codemirror_mode": {
    "name": "ipython",
    "version": 3
   },
   "file_extension": ".py",
   "mimetype": "text/x-python",
   "name": "python",
   "nbconvert_exporter": "python",
   "pygments_lexer": "ipython3",
   "version": "3.9.1"
  }
 },
 "nbformat": 4,
 "nbformat_minor": 4
}
