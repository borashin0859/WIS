{
 "cells": [
  {
   "cell_type": "code",
   "execution_count": 4,
   "metadata": {},
   "outputs": [],
   "source": [
    "#12919\n",
    "def solution(seoul):\n",
    "    answer =\"\"\n",
    "    for i, sung in enumerate(seoul):\n",
    "        if sung == \"Kim\":\n",
    "            answer = \"김서방은 \" + str(i) + \"에 있다\"\n",
    "    return answer"
   ]
  },
  {
   "cell_type": "code",
   "execution_count": null,
   "metadata": {},
   "outputs": [],
   "source": [
    "#12915\n",
    "def solution(strings, n):  \n",
    "    return sorted(strings, key= lambda x : x[n]) "
   ]
  },
  {
   "cell_type": "code",
   "execution_count": 11,
   "metadata": {},
   "outputs": [
    {
     "name": "stdout",
     "output_type": "stream",
     "text": [
      "4\n"
     ]
    }
   ],
   "source": [
    "#12943\n",
    "n=16\n",
    "answer=0\n",
    "while(1):\n",
    "    if n%2==0:\n",
    "        n=n/2\n",
    "    elif n%2!=0 and n!=1:\n",
    "        n=n*3+1\n",
    "    elif answer>=500:\n",
    "        print(-1)\n",
    "        break\n",
    "    elif n==1:\n",
    "        print(answer)\n",
    "        break\n",
    "    answer+=1\n",
    "        "
   ]
  },
  {
   "cell_type": "code",
   "execution_count": null,
   "metadata": {},
   "outputs": [],
   "source": []
  }
 ],
 "metadata": {
  "kernelspec": {
   "display_name": "Python 3",
   "language": "python",
   "name": "python3"
  },
  "language_info": {
   "codemirror_mode": {
    "name": "ipython",
    "version": 3
   },
   "file_extension": ".py",
   "mimetype": "text/x-python",
   "name": "python",
   "nbconvert_exporter": "python",
   "pygments_lexer": "ipython3",
   "version": "3.9.1"
  }
 },
 "nbformat": 4,
 "nbformat_minor": 4
}
