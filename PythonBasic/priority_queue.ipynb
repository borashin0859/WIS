{
 "cells": [
  {
   "cell_type": "markdown",
   "metadata": {},
   "source": [
    "# PriorityQueue class"
   ]
  },
  {
   "cell_type": "markdown",
   "metadata": {},
   "source": [
    "## put_nowait(item)\n",
    "아이템을 하나하나 넣어 주어야 한다.  \n",
    "이게 heapify와의 차이점 : heapify는 데이터(리스트)를 한번에 정렬해준다."
   ]
  },
  {
   "cell_type": "code",
   "execution_count": 1,
   "metadata": {},
   "outputs": [
    {
     "name": "stdout",
     "output_type": "stream",
     "text": [
      "[1, 5, 2, 13, 10]\n"
     ]
    }
   ],
   "source": [
    "from queue import PriorityQueue\n",
    "\n",
    "my_list=[13,2,1,5,10]\n",
    "pq=PriorityQueue()\n",
    "\n",
    "for val in my_list:\n",
    "    pq.put_nowait(val)\n",
    "    \n",
    "print(pq.queue)"
   ]
  },
  {
   "cell_type": "markdown",
   "metadata": {},
   "source": [
    "##  get_nowiat()\n",
    "데이터를 가져올 때"
   ]
  },
  {
   "cell_type": "code",
   "execution_count": 3,
   "metadata": {},
   "outputs": [
    {
     "name": "stdout",
     "output_type": "stream",
     "text": [
      "1\n"
     ]
    }
   ],
   "source": [
    "from queue import PriorityQueue\n",
    "\n",
    "my_list=[13,2,1,5,10]\n",
    "pq=PriorityQueue()\n",
    "for val in my_list:\n",
    "    pq.put_nowait(val)\n",
    "    \n",
    "print(pq.get_nowait())  #가장 작은 값 꺼내준다"
   ]
  },
  {
   "cell_type": "code",
   "execution_count": 4,
   "metadata": {},
   "outputs": [
    {
     "name": "stdout",
     "output_type": "stream",
     "text": [
      "1\n",
      "2\n",
      "5\n",
      "10\n",
      "13\n"
     ]
    }
   ],
   "source": [
    "from queue import PriorityQueue\n",
    "\n",
    "my_list=[13,2,1,5,10]\n",
    "pq=PriorityQueue()\n",
    "for val in my_list:\n",
    "    pq.put_nowait(val)\n",
    "    \n",
    "#queue가  empty 상태가 될 때까지\n",
    "while not pq.empty():\n",
    "    print(pq.get_nowait())"
   ]
  },
  {
   "cell_type": "markdown",
   "metadata": {},
   "source": [
    "## qsize()\n",
    "큐에 원소가 몇개 있는지 반환"
   ]
  },
  {
   "cell_type": "code",
   "execution_count": 5,
   "metadata": {},
   "outputs": [
    {
     "name": "stdout",
     "output_type": "stream",
     "text": [
      "QUEUE SIZE:  1\n",
      "QUEUE SIZE:  2\n",
      "QUEUE SIZE:  3\n",
      "QUEUE SIZE:  4\n",
      "QUEUE SIZE:  5\n"
     ]
    }
   ],
   "source": [
    "from queue import PriorityQueue\n",
    "\n",
    "my_list=[13,2,1,5,10]\n",
    "pq=PriorityQueue()\n",
    "\n",
    "for val in my_list:\n",
    "    pq.put_nowait(val)\n",
    "    print('QUEUE SIZE: ',pq.qsize())"
   ]
  },
  {
   "cell_type": "markdown",
   "metadata": {},
   "source": [
    "## empty()\n",
    "큐가 비어있는지 확인"
   ]
  },
  {
   "cell_type": "code",
   "execution_count": 6,
   "metadata": {},
   "outputs": [
    {
     "name": "stdout",
     "output_type": "stream",
     "text": [
      "Is the queue empty? :  True\n",
      "Is the queue empty? :  False\n"
     ]
    }
   ],
   "source": [
    "from queue import PriorityQueue\n",
    "\n",
    "pq=PriorityQueue()\n",
    "\n",
    "print(\"Is the queue empty? : \",pq.empty())\n",
    "\n",
    "my_list=[13,2,1,5,10]\n",
    "for val in my_list:\n",
    "    pq.put_nowait(val)\n",
    "    \n",
    "print(\"Is the queue empty? : \",pq.empty())"
   ]
  },
  {
   "cell_type": "markdown",
   "metadata": {},
   "source": [
    "# heapq module과  PriorityQueue class 속도 차이\n",
    "\n",
    "1000000개의 데이터를 넣는 코드 비교\n",
    "* heapq module : 40ms (heappush)\n",
    "* PriorityQueue class : 300ms (put_nowait)\n",
    "\n",
    "확실히 heapq module이 연산의 속도가 빠르다"
   ]
  },
  {
   "cell_type": "code",
   "execution_count": 7,
   "metadata": {},
   "outputs": [],
   "source": [
    "import heapq\n",
    "from queue import PriorityQueue\n",
    "import timeit\n",
    "import random\n",
    "\n",
    "random.seed(0)\n",
    "\n",
    "dataset=list(range(0,100000))\n",
    "random.shuffle(dataset)\n"
   ]
  },
  {
   "cell_type": "code",
   "execution_count": 10,
   "metadata": {},
   "outputs": [
    {
     "name": "stdout",
     "output_type": "stream",
     "text": [
      "heapq를 사용했을 때 : \n",
      "15 ms ± 75.9 µs per loop (mean ± std. dev. of 7 runs, 100 loops each)\n"
     ]
    }
   ],
   "source": [
    "def heapq_perform(dataset):\n",
    "    lst=[]\n",
    "    for data in dataset:\n",
    "        heapq.heappush(lst,data)\n",
    "        \n",
    "#heapq\n",
    "print(\"heapq를 사용했을 때 : \")\n",
    "%timeit heapq_perform(dataset) #magic command "
   ]
  },
  {
   "cell_type": "markdown",
   "metadata": {},
   "source": [
    "%timeit : 주어진 코드를 여러번 실행해보고 그 평균시간을 알려줌\n",
    "* -n : 한 루프당 몇 번 시행할지 지정 (지정하지 않으면 그냥 적당히 알아서 돌려서 정확한 값이 나올 정도로 실행해 준다.\n",
    "* -r : 여러번 반복해서 그 평균값과 오차범위를 보여준다.  defalut=7번\n",
    "\n",
    "%timeit -n 100 -r 3 sum(range(100)) 3번의 run. 1번의 run마다 100번씩 실행해서 the best result를 저장 \n",
    "\n"
   ]
  },
  {
   "cell_type": "code",
   "execution_count": 11,
   "metadata": {},
   "outputs": [
    {
     "name": "stdout",
     "output_type": "stream",
     "text": [
      "PriorityQueue를 사용했을 때:\n",
      "214 ms ± 4.17 ms per loop (mean ± std. dev. of 7 runs, 10 loops each)\n"
     ]
    }
   ],
   "source": [
    "def pqclass_perform(dataset):\n",
    "    pq=PriorityQueue()\n",
    "    for data in dataset:\n",
    "        pq.put_nowait(data)\n",
    "        \n",
    "print(\"PriorityQueue를 사용했을 때:\")\n",
    "%timeit -n 10 pqclass_perform(dataset)"
   ]
  },
  {
   "cell_type": "markdown",
   "metadata": {},
   "source": [
    "## heapq module과 list간 속도 차이 "
   ]
  },
  {
   "cell_type": "markdown",
   "metadata": {},
   "source": [
    "heapq는 다음과 같은 상황에서 유리하다\n",
    "* 데이터가 지속적으로 정렬돼야 할 때\n",
    "* 데이터의 삽입/삭제가 빈번하게 일어날 때"
   ]
  },
  {
   "cell_type": "code",
   "execution_count": 13,
   "metadata": {},
   "outputs": [
    {
     "name": "stdout",
     "output_type": "stream",
     "text": [
      "commands[:5]==> [('PUSH', 885440), ('POP', None), ('PUSH', 794772), ('POP', None), ('PUSH', 42450)]\n"
     ]
    }
   ],
   "source": [
    "random.seed(0)\n",
    "\n",
    "def build_commands(n=1000000):\n",
    "    '''PUSH, POP 명령을 담은 리스트를 만드는 함수'''\n",
    "    commands=[]\n",
    "    num_inserted=0\n",
    "    \n",
    "    for _ in range(n):\n",
    "        operation='PUSH' if num_inserted==0 else random.choice(['PUSH','POP'])\n",
    "        if operation=='PUSH':\n",
    "            num_inserted +=1\n",
    "            number=random.randint(0,1000000)\n",
    "        else:\n",
    "            num_inserted-=1\n",
    "            number=None\n",
    "        commands.append((operation,number))\n",
    "        \n",
    "    commands.extend([('POP',None)]*(num_inserted-1))\n",
    "    return commands\n",
    "\n",
    "commands=build_commands()\n",
    "print(\"commands[:5]==>\",commands[:5])"
   ]
  },
  {
   "cell_type": "code",
   "execution_count": 16,
   "metadata": {},
   "outputs": [
    {
     "name": "stdout",
     "output_type": "stream",
     "text": [
      "263 ms ± 1.49 ms per loop (mean ± std. dev. of 7 runs, 10 loops each)\n"
     ]
    }
   ],
   "source": [
    "def heapq_perform(commands):\n",
    "    hq=[]\n",
    "    for [operation,value] in commands:\n",
    "        if operation=='PUSH':\n",
    "            heapq.heappush(hq,value)\n",
    "        else:\n",
    "            heapq.heappop(hq)\n",
    "            \n",
    "%timeit -n 10 heapq_perform(commands)"
   ]
  },
  {
   "cell_type": "code",
   "execution_count": null,
   "metadata": {},
   "outputs": [],
   "source": [
    "def list_perform(commands):\n",
    "    lst=[]\n",
    "    for [operation, value] in commands:\n",
    "        if operation=='PUSH':\n",
    "            lst.append(value)\n",
    "        else:\n",
    "            lst.sort(reverse=True)\n",
    "            lst.pop()\n",
    "            \n",
    "%timeit -n 10 list_perform(commands)"
   ]
  }
 ],
 "metadata": {
  "kernelspec": {
   "display_name": "Python 3",
   "language": "python",
   "name": "python3"
  },
  "language_info": {
   "codemirror_mode": {
    "name": "ipython",
    "version": 3
   },
   "file_extension": ".py",
   "mimetype": "text/x-python",
   "name": "python",
   "nbconvert_exporter": "python",
   "pygments_lexer": "ipython3",
   "version": "3.9.1"
  }
 },
 "nbformat": 4,
 "nbformat_minor": 4
}
