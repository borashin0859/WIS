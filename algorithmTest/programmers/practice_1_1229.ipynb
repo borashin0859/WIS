{
 "cells": [
  {
   "cell_type": "code",
   "execution_count": null,
   "metadata": {},
   "outputs": [],
   "source": [
    "# 두 정수 사이의 합\n",
    "\n",
    "def solution(a, b):\n",
    "    if a>b:\n",
    "        a,b=b,a\n",
    "    my_list=list(range(a,b+1))\n",
    "    answer = sum(my_list)\n",
    "    return answer"
   ]
  },
  {
   "cell_type": "code",
   "execution_count": 10,
   "metadata": {},
   "outputs": [],
   "source": [
    "# 문자열 내 p와 y의 개수\n",
    "\n",
    "def solution1(s):\n",
    "    s1=s.upper()\n",
    "    if s1.find('P') and s1.fine('Y') == -1:\n",
    "        return True\n",
    "    elif s1.count('P')==s1.count('Y'):\n",
    "        return True\n",
    "    else:\n",
    "        return False"
   ]
  },
  {
   "cell_type": "code",
   "execution_count": 26,
   "metadata": {},
   "outputs": [
    {
     "name": "stdout",
     "output_type": "stream",
     "text": [
      "yes\n"
     ]
    },
    {
     "data": {
      "text/plain": [
       "True"
      ]
     },
     "execution_count": 26,
     "metadata": {},
     "output_type": "execute_result"
    }
   ],
   "source": [
    "# 문자열 다루기 기본\n",
    "\n",
    "def solution(s):\n",
    "    if (len(s) in [4,6] and all(list(map(lambda x: ord(x)>=48 and ord(x)<=57, s)))):\n",
    "        return True\n",
    "    return False"
   ]
  },
  {
   "cell_type": "code",
   "execution_count": 28,
   "metadata": {},
   "outputs": [
    {
     "data": {
      "text/plain": [
       "-123"
      ]
     },
     "execution_count": 28,
     "metadata": {},
     "output_type": "execute_result"
    }
   ],
   "source": [
    "#문자열을 정수로 바꾸기\n",
    "def solution(s):\n",
    "    return int(s)\n",
    "    "
   ]
  }
 ],
 "metadata": {
  "kernelspec": {
   "display_name": "Python 3",
   "language": "python",
   "name": "python3"
  },
  "language_info": {
   "codemirror_mode": {
    "name": "ipython",
    "version": 3
   },
   "file_extension": ".py",
   "mimetype": "text/x-python",
   "name": "python",
   "nbconvert_exporter": "python",
   "pygments_lexer": "ipython3",
   "version": "3.9.1"
  }
 },
 "nbformat": 4,
 "nbformat_minor": 4
}
