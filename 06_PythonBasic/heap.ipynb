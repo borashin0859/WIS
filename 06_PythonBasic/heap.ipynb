{
 "cells": [
  {
   "cell_type": "markdown",
   "metadata": {},
   "source": [
    "# heapq 사용법"
   ]
  },
  {
   "cell_type": "markdown",
   "metadata": {},
   "source": [
    "## heapify"
   ]
  },
  {
   "cell_type": "code",
   "execution_count": 2,
   "metadata": {},
   "outputs": [
    {
     "data": {
      "text/plain": [
       "[1, 3, 9, 4, 7, 30]"
      ]
     },
     "execution_count": 2,
     "metadata": {},
     "output_type": "execute_result"
    }
   ],
   "source": [
    "import heapq\n",
    "\n",
    "list1=[30,3,1,4,7,9]\n",
    "heapq.heapify(list1)\n",
    "list1"
   ]
  },
  {
   "cell_type": "markdown",
   "metadata": {},
   "source": [
    "## heappop(heap)\n",
    "\n",
    "가장 작은 원소 빼내기 (정렬되어있는 리스트에서만 사용 가능)"
   ]
  },
  {
   "cell_type": "code",
   "execution_count": 3,
   "metadata": {},
   "outputs": [
    {
     "name": "stdout",
     "output_type": "stream",
     "text": [
      "min value return :  1\n",
      "남은 원소:  [3, 4, 9, 30, 7]\n"
     ]
    }
   ],
   "source": [
    "import heapq\n",
    "\n",
    "list1=[30,3,1,4,7,9]\n",
    "heapq.heapify(list1)\n",
    "\n",
    "min_val=heapq.heappop(list1)\n",
    "print(\"min value return : \",min_val)\n",
    "print(\"남은 원소: \", list1)"
   ]
  },
  {
   "cell_type": "code",
   "execution_count": 4,
   "metadata": {},
   "outputs": [
    {
     "name": "stdout",
     "output_type": "stream",
     "text": [
      "min value return :  1\n",
      "min value return :  3\n",
      "min value return :  4\n",
      "min value return :  7\n",
      "min value return :  9\n",
      "min value return :  30\n"
     ]
    }
   ],
   "source": [
    "list1=[30,3,1,4,7,9]\n",
    "heapq.heapify(list1)\n",
    "\n",
    "while list1:\n",
    "    print(\"min value return : \",heapq.heappop(list1))"
   ]
  },
  {
   "cell_type": "code",
   "execution_count": 8,
   "metadata": {},
   "outputs": [
    {
     "name": "stdout",
     "output_type": "stream",
     "text": [
      "min value return :  1\n",
      "min value return :  3\n",
      "min value return :  4\n",
      "min value return :  7\n",
      "min value return :  9\n",
      "min value return :  30\n"
     ]
    }
   ],
   "source": [
    "list1=[30,3,1,4,7,9]\n",
    "heapq.heapify(list1)\n",
    "\n",
    "while list1:\n",
    "    print(\"min value return : \",list1[0]) #가장 앞에 원소가 가장 작음\n",
    "    heapq.heappop(list1)"
   ]
  },
  {
   "cell_type": "markdown",
   "metadata": {},
   "source": [
    "## heappush (heap, item)"
   ]
  },
  {
   "cell_type": "code",
   "execution_count": 6,
   "metadata": {},
   "outputs": [
    {
     "name": "stdout",
     "output_type": "stream",
     "text": [
      "[0, 3, 1, 4, 7, 30, 9]\n"
     ]
    }
   ],
   "source": [
    "import heapq\n",
    "\n",
    "list1=[30,3,1,4,7,9]\n",
    "heapq.heapify(list1)\n",
    "\n",
    "heapq.heappush(list1,0)\n",
    "print(list1)"
   ]
  },
  {
   "cell_type": "code",
   "execution_count": 7,
   "metadata": {},
   "outputs": [
    {
     "name": "stdout",
     "output_type": "stream",
     "text": [
      "[1, 3, 7, 4, 7, 30, 9]\n"
     ]
    }
   ],
   "source": [
    "list1=[30,3,1,4,7,9]\n",
    "heapq.heapify(list1)\n",
    "\n",
    "heapq.heappush(list1, 7)\n",
    "print(list1)"
   ]
  }
 ],
 "metadata": {
  "kernelspec": {
   "display_name": "Python 3",
   "language": "python",
   "name": "python3"
  },
  "language_info": {
   "codemirror_mode": {
    "name": "ipython",
    "version": 3
   },
   "file_extension": ".py",
   "mimetype": "text/x-python",
   "name": "python",
   "nbconvert_exporter": "python",
   "pygments_lexer": "ipython3",
   "version": "3.9.1"
  }
 },
 "nbformat": 4,
 "nbformat_minor": 4
}
